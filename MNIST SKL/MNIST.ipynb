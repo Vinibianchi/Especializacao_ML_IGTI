{
 "cells": [
  {
   "cell_type": "markdown",
   "id": "cb964d19-e529-474b-adf1-2eb5093dcb63",
   "metadata": {},
   "source": [
    "# MNIST Classifier"
   ]
  },
  {
   "cell_type": "code",
   "execution_count": 4,
   "id": "15f7bd1b-419b-4660-a943-37c2a861b21f",
   "metadata": {},
   "outputs": [],
   "source": [
    "# load data\n",
    "\n",
    "from sklearn.datasets import fetch_openml\n",
    "import pandas as pd\n",
    "import numpy as np"
   ]
  },
  {
   "cell_type": "code",
   "execution_count": 5,
   "id": "58ddde25-1e61-4c8a-b2b9-aef519dbb8a0",
   "metadata": {},
   "outputs": [],
   "source": [
    "mnist = fetch_openml(\"mnist_784\")"
   ]
  },
  {
   "cell_type": "code",
   "execution_count": null,
   "id": "0bce54a8-43a3-4077-b954-3cfec6845413",
   "metadata": {
    "tags": []
   },
   "outputs": [],
   "source": [
    "mnist"
   ]
  },
  {
   "cell_type": "code",
   "execution_count": 6,
   "id": "4ae2aee4-058b-448e-a87a-2b1f3980fea4",
   "metadata": {},
   "outputs": [],
   "source": [
    "# Separando features e target\n",
    "X, y = np.array(mnist.data), np.array(mnist.target).astype(int)"
   ]
  },
  {
   "cell_type": "code",
   "execution_count": null,
   "id": "daee7127-ff03-4554-8920-df4c48cf029e",
   "metadata": {},
   "outputs": [],
   "source": []
  },
  {
   "cell_type": "code",
   "execution_count": 7,
   "id": "6c6933ec-6973-4fc9-9bf7-c68cadcf3c3f",
   "metadata": {},
   "outputs": [
    {
     "data": {
      "image/png": "[encoded data removed]",
      "text/plain": [
       "<Figure size 432x288 with 1 Axes>"
      ]
     },
     "metadata": {
      "needs_background": "light"
     },
     "output_type": "display_data"
    }
   ],
   "source": [
    "import matplotlib.pyplot as plt\n",
    "some_digit =X[8]\n",
    "some_digit_img = some_digit.reshape(28,28)\n",
    "plt.imshow(some_digit_img,\n",
    "          cmap='gray',\n",
    "           interpolation='nearest')\n",
    "plt.axis('off')\n",
    "plt.show()"
   ]
  },
  {
   "cell_type": "code",
   "execution_count": 6,
   "id": "4449a916-ef8a-44c8-81a4-395caa102e72",
   "metadata": {},
   "outputs": [
    {
     "data": {
      "text/plain": [
       "1"
      ]
     },
     "execution_count": 6,
     "metadata": {},
     "output_type": "execute_result"
    }
   ],
   "source": [
    "y[8]"
   ]
  },
  {
   "cell_type": "code",
   "execution_count": 7,
   "id": "6a441be3-7988-4ec9-b147-a7795c17bb1b",
   "metadata": {},
   "outputs": [
    {
     "data": {
      "text/plain": [
       "(70000, 784)"
      ]
     },
     "execution_count": 7,
     "metadata": {},
     "output_type": "execute_result"
    }
   ],
   "source": [
    "X.shape"
   ]
  },
  {
   "cell_type": "markdown",
   "id": "8fcaa716-5049-4521-97b8-9d68152d4a0f",
   "metadata": {},
   "source": [
    "# Separaçao Treino test\n",
    "\n",
    "1. Vamos separar as primerias 60.000 para treino e o restante para teste.  \n",
    "2. Em seguida vamos embaralhar o o conjunto de treino, para obter maior homegeniedade de ocorrencia de dígitos no `k-fold`"
   ]
  },
  {
   "cell_type": "code",
   "execution_count": 8,
   "id": "926becea-2784-4cba-91d4-5a595ec6f0b3",
   "metadata": {},
   "outputs": [],
   "source": [
    "X_train, X_test, y_train, y_test = X[:60000],X[60000:],y[:60000],y[60000:]"
   ]
  },
  {
   "cell_type": "code",
   "execution_count": 9,
   "id": "4491aed7-5eb4-4ce9-aef8-7f87707a118b",
   "metadata": {},
   "outputs": [],
   "source": [
    "shuffle_index = np.random.permutation(60000)\n",
    "\n",
    "X_train, y_train = X_train[shuffle_index], y[shuffle_index]"
   ]
  },
  {
   "cell_type": "markdown",
   "id": "8a7e248f-0df7-45a3-97bc-4572230921d6",
   "metadata": {},
   "source": [
    "# Classicador Binário identificador de 5s"
   ]
  },
  {
   "cell_type": "code",
   "execution_count": 10,
   "id": "78258569-f8ca-4c41-a07d-338f891fc88e",
   "metadata": {},
   "outputs": [],
   "source": [
    "y_train_5 = (y_train == 5) # Coletando dados de treino com target 5\n",
    "y_test_5 = (y_test == 5) # Coletando dados de teste com target 5"
   ]
  },
  {
   "cell_type": "code",
   "execution_count": 11,
   "id": "c11c29ae-d483-41d7-87c9-8fe3351d9297",
   "metadata": {},
   "outputs": [
    {
     "data": {
      "text/plain": [
       "SGDClassifier()"
      ]
     },
     "execution_count": 11,
     "metadata": {},
     "output_type": "execute_result"
    }
   ],
   "source": [
    "# Treinando um modelo \n",
    "from sklearn.linear_model import SGDClassifier\n",
    "\n",
    "sgd_clf = SGDClassifier()# Gradiente descendente estocástico\n",
    "sgd_clf.fit(X_train, y_train_5)"
   ]
  },
  {
   "cell_type": "code",
   "execution_count": 12,
   "id": "28d499f4-9803-4d9f-90a7-9b3f9839eb50",
   "metadata": {},
   "outputs": [
    {
     "data": {
      "text/plain": [
       "array([False])"
      ]
     },
     "execution_count": 12,
     "metadata": {},
     "output_type": "execute_result"
    }
   ],
   "source": [
    "sgd_clf.predict([X_train[480]])"
   ]
  },
  {
   "cell_type": "code",
   "execution_count": 13,
   "id": "613c2894-423f-4331-9d6b-20a5c050ec95",
   "metadata": {},
   "outputs": [],
   "source": [
    "# Aplicando validação cruzada\n",
    "\n",
    "from sklearn.model_selection import cross_val_score"
   ]
  },
  {
   "cell_type": "code",
   "execution_count": 14,
   "id": "9bd351ea-6bdf-4a35-af83-a4e95697f749",
   "metadata": {},
   "outputs": [
    {
     "data": {
      "text/plain": [
       "array([0.96235, 0.96065, 0.9642 ])"
      ]
     },
     "execution_count": 14,
     "metadata": {},
     "output_type": "execute_result"
    }
   ],
   "source": [
    "cross_val_score(sgd_clf,X_train, y= y_train_5, cv = 3, scoring='accuracy')"
   ]
  },
  {
   "cell_type": "markdown",
   "id": "eebfffc6-77e1-4183-9899-bf8265c206c1",
   "metadata": {},
   "source": [
    "Embora a acuracia esteja alta, esse modelo é uma merda. Vamos avaliar outras métricas"
   ]
  },
  {
   "cell_type": "markdown",
   "id": "8974c846-5bde-41b4-9b1a-63d76168a10e",
   "metadata": {},
   "source": [
    "# Validaçõo cruzada com matriz de confusão"
   ]
  },
  {
   "cell_type": "code",
   "execution_count": 15,
   "id": "198bdfbc-5d4d-45ea-89c3-33e44f0212ed",
   "metadata": {},
   "outputs": [],
   "source": [
    "from sklearn.model_selection import cross_val_predict\n",
    "\n",
    "\n",
    "y_train_pred = cross_val_predict(sgd_clf, X_train, y_train_5, cv = 3)"
   ]
  },
  {
   "cell_type": "code",
   "execution_count": 16,
   "id": "13eb7840-2a37-4b43-a8fe-30679c320dd1",
   "metadata": {},
   "outputs": [
    {
     "data": {
      "text/plain": [
       "array([[53686,   893],\n",
       "       [ 1468,  3953]], dtype=int64)"
      ]
     },
     "execution_count": 16,
     "metadata": {},
     "output_type": "execute_result"
    }
   ],
   "source": [
    "from sklearn.metrics import confusion_matrix\n",
    "\n",
    "confusion_matrix(y_train_5,y_train_pred)"
   ]
  },
  {
   "cell_type": "code",
   "execution_count": 17,
   "id": "4113be8a-8644-449e-b8bb-e5940075f555",
   "metadata": {},
   "outputs": [
    {
     "name": "stdout",
     "output_type": "stream",
     "text": [
      "0.815724308708213\n",
      "0.7292012543811105\n",
      "0.7700399337683841\n"
     ]
    }
   ],
   "source": [
    "from sklearn.metrics import precision_score, recall_score, f1_score\n",
    "\n",
    "print(precision_score(y_train_5, y_train_pred)) \n",
    "print(recall_score(y_train_5, y_train_pred))\n",
    "print(f1_score(y_train_5, y_train_pred))"
   ]
  },
  {
   "cell_type": "markdown",
   "id": "2923f4ed-266a-4a04-b4b8-95bdf6624d07",
   "metadata": {},
   "source": [
    "# Compensação do Precsion x Recall"
   ]
  },
  {
   "cell_type": "code",
   "execution_count": 19,
   "id": "ac597d82-ca24-4f54-b69d-a3e7738847f3",
   "metadata": {},
   "outputs": [
    {
     "name": "stdout",
     "output_type": "stream",
     "text": [
      "[-1260.34682641]\n"
     ]
    },
    {
     "data": {
      "text/plain": [
       "array([False])"
      ]
     },
     "execution_count": 19,
     "metadata": {},
     "output_type": "execute_result"
    }
   ],
   "source": [
    "y_scores = sgd_clf.decision_function(([X_train[8]]))\n",
    "print(y_scores)\n",
    "\n",
    "threshold = 0\n",
    "(y_scores>threshold)\n"
   ]
  },
  {
   "cell_type": "code",
   "execution_count": 21,
   "id": "d039eb47-90d5-42e2-a0ec-93380319bd1f",
   "metadata": {},
   "outputs": [
    {
     "data": {
      "text/plain": [
       "array([False])"
      ]
     },
     "execution_count": 21,
     "metadata": {},
     "output_type": "execute_result"
    }
   ],
   "source": [
    "threshold = 200000\n",
    "(y_scores>threshold)"
   ]
  },
  {
   "cell_type": "code",
   "execution_count": 55,
   "id": "dd57980a-6438-43bc-aec5-be67de5ce7ee",
   "metadata": {},
   "outputs": [
    {
     "data": {
      "image/png": "[encoded data removed]",
      "text/plain": [
       "<Figure size 432x288 with 1 Axes>"
      ]
     },
     "metadata": {
      "needs_background": "light"
     },
     "output_type": "display_data"
    },
    {
     "name": "stdout",
     "output_type": "stream",
     "text": [
      "3\n"
     ]
    }
   ],
   "source": [
    "import matplotlib.pyplot as plt\n",
    "some_digit =X_train[8]\n",
    "some_digit_img = some_digit.reshape(28,28)\n",
    "plt.imshow(some_digit_img,\n",
    "          cmap='gray',\n",
    "           interpolation='nearest')\n",
    "plt.axis('off')\n",
    "plt.show()\n",
    "\n",
    "print(y_train[8])"
   ]
  },
  {
   "cell_type": "code",
   "execution_count": 23,
   "id": "20384f28-0e46-45e6-8f05-7ebc8117d6ea",
   "metadata": {
    "tags": []
   },
   "outputs": [],
   "source": [
    "from sklearn.metrics import precision_recall_curve\n",
    "\n",
    "y_score = cross_val_predict(sgd_clf,X_train,y_train_5, cv = 3, method = 'decision_function')\n",
    "precision, recalls, thresholds = precision_recall_curve(y_train_5, y_score)"
   ]
  },
  {
   "cell_type": "code",
   "execution_count": 24,
   "id": "c719b7c8-dd57-4845-8d00-07b8dc05881f",
   "metadata": {},
   "outputs": [
    {
     "name": "stdout",
     "output_type": "stream",
     "text": [
      "[0.09054467 0.09052948 0.09053099 ... 1.         1.         1.        ]\n",
      "[1.00000000e+00 9.99815532e-01 9.99815532e-01 ... 3.68935621e-04\n",
      " 1.84467810e-04 0.00000000e+00]\n",
      "[-82531.31402134 -82487.1534983  -82231.95408247 ...  39499.45867915\n",
      "  40597.02683975  41429.92920692]\n"
     ]
    }
   ],
   "source": [
    "# \n",
    "print(precision[:-1])\n",
    "print(recalls)\n",
    "print(thresholds)"
   ]
  },
  {
   "cell_type": "code",
   "execution_count": 25,
   "id": "95203ce4-0c82-40ca-b3c0-607d54ce79e0",
   "metadata": {},
   "outputs": [],
   "source": [
    "def plot_precision_recal_vs_threshold(precision,recall, thresholds):\n",
    "    \n",
    "    plt.plot(thresholds, precision[:-1], 'b--',label = 'Precision')\n",
    "    plt.plot(thresholds, recall[:-1], 'g-', label = \"Recall\")\n",
    "    plt.xlabel('Threshold')\n",
    "    plt.legend(loc = 'center left')\n",
    "    plt.legend(loc='center left')\n",
    "    plt.ylim([0,1])"
   ]
  },
  {
   "cell_type": "code",
   "execution_count": 26,
   "id": "63b74b68-e6cc-48f2-86a4-b3afb6af9fd4",
   "metadata": {},
   "outputs": [
    {
     "data": {
      "image/png": "[encoded data removed]",
      "text/plain": [
       "<Figure size 1080x720 with 1 Axes>"
      ]
     },
     "metadata": {
      "needs_background": "light"
     },
     "output_type": "display_data"
    }
   ],
   "source": [
    "plt.figure(figsize=(15,10))\n",
    "plot_precision_recal_vs_threshold(precision,recalls, thresholds)"
   ]
  },
  {
   "cell_type": "markdown",
   "id": "c3739d48-4eea-4226-b00c-745286e6bd2e",
   "metadata": {},
   "source": [
    "# Curva ROC"
   ]
  },
  {
   "cell_type": "markdown",
   "id": "47390568-59d5-47fe-a90b-fd678aa40441",
   "metadata": {},
   "source": [
    "A Curva ROC mede Tx Verdadeiros Positivos x Tx Falsos positivos"
   ]
  },
  {
   "cell_type": "code",
   "execution_count": 30,
   "id": "2dd32021-17ae-4935-a5a0-1c04fe347a32",
   "metadata": {},
   "outputs": [],
   "source": [
    "from sklearn.metrics import roc_curve"
   ]
  },
  {
   "cell_type": "code",
   "execution_count": 31,
   "id": "6de9166d-15c2-4c58-bed2-7d4863eabee8",
   "metadata": {},
   "outputs": [],
   "source": [
    "fpr, tpr, thresholds = roc_curve(y_train_5, y_score)"
   ]
  },
  {
   "cell_type": "code",
   "execution_count": 32,
   "id": "80f51b74-25e4-4b05-97cd-78f4992fd497",
   "metadata": {},
   "outputs": [
    {
     "data": {
      "text/plain": [
       "array([0.        , 0.        , 0.        , ..., 0.99763645, 0.99763645,\n",
       "       1.        ])"
      ]
     },
     "execution_count": 32,
     "metadata": {},
     "output_type": "execute_result"
    }
   ],
   "source": [
    "fpr"
   ]
  },
  {
   "cell_type": "code",
   "execution_count": 35,
   "id": "ca9064d7-98c5-424e-8e7d-a722ba224f77",
   "metadata": {},
   "outputs": [
    {
     "data": {
      "text/plain": [
       "array([0.00000000e+00, 1.84467810e-04, 2.76701716e-03, ...,\n",
       "       9.99815532e-01, 1.00000000e+00, 1.00000000e+00])"
      ]
     },
     "execution_count": 35,
     "metadata": {},
     "output_type": "execute_result"
    }
   ],
   "source": [
    "tpr"
   ]
  },
  {
   "cell_type": "code",
   "execution_count": 36,
   "id": "d14985e4-a5fa-4585-b8a1-91d6725e291d",
   "metadata": {},
   "outputs": [
    {
     "data": {
      "text/plain": [
       "array([  41430.92920692,   41429.92920692,   32788.5428468 , ...,\n",
       "        -82487.1534983 ,  -82531.31402134, -167840.45350886])"
      ]
     },
     "execution_count": 36,
     "metadata": {},
     "output_type": "execute_result"
    }
   ],
   "source": [
    "thresholds"
   ]
  },
  {
   "cell_type": "code",
   "execution_count": 37,
   "id": "a43b0e75-5207-444b-9d5b-685ef2d4a6d7",
   "metadata": {},
   "outputs": [],
   "source": [
    "def plot_roc_curve(fpr, tpr, label = None):\n",
    "    \n",
    "    plt.plot(fpr, tpr, label = label)\n",
    "    plt.plot([0,1],[0,1], '--')\n",
    "    plt.axis([0,1,0,1])\n",
    "    plt.xlabel('Falsos Positivos')\n",
    "    plt.ylabel('Verdaderiso Positivos')\n",
    "\n",
    "    "
   ]
  },
  {
   "cell_type": "code",
   "execution_count": 38,
   "id": "cc219804-e359-4503-9a9b-dcd35a56fe37",
   "metadata": {},
   "outputs": [
    {
     "data": {
      "image/png": "[encoded data removed]",
      "text/plain": [
       "<Figure size 432x288 with 1 Axes>"
      ]
     },
     "metadata": {
      "needs_background": "light"
     },
     "output_type": "display_data"
    }
   ],
   "source": [
    "plot_roc_curve(fpr, tpr)\n",
    "plt.show()"
   ]
  },
  {
   "cell_type": "markdown",
   "id": "51dc5703-b63e-4252-a036-9734cbfd0c8f",
   "metadata": {},
   "source": [
    "__Uma boa métrica de avaliação da área sob a curva ROC, se for 1 temos o classificador perfeito. \n",
    "Se for 0.5 é totalmente aleatório__  \n",
    "\n",
    "Podemos calcular com o `roc_auc_score`"
   ]
  },
  {
   "cell_type": "code",
   "execution_count": 39,
   "id": "659c8ede-620f-471a-8407-8d77721f051e",
   "metadata": {},
   "outputs": [
    {
     "data": {
      "text/plain": [
       "0.9614904561051529"
      ]
     },
     "execution_count": 39,
     "metadata": {},
     "output_type": "execute_result"
    }
   ],
   "source": [
    "from sklearn.metrics import roc_auc_score\n",
    "\n",
    "roc_auc_score(y_train_5,y_score)"
   ]
  },
  {
   "cell_type": "code",
   "execution_count": 40,
   "id": "783008be-2172-4ef0-b5dd-805f80260e98",
   "metadata": {
    "tags": []
   },
   "outputs": [],
   "source": [
    "from sklearn.ensemble import RandomForestClassifier\n",
    "\n",
    "forest_cls = RandomForestClassifier(random_state=42)\n",
    "\n",
    "y_probas_forest = cross_val_predict(forest_cls, X_train, y_train_5, cv = 3, method='predict_proba')"
   ]
  },
  {
   "cell_type": "code",
   "execution_count": 41,
   "id": "3a0219ae-8a26-4279-999d-d3ece265f4c7",
   "metadata": {},
   "outputs": [],
   "source": [
    "y_scores_forest = y_probas_forest[:,1]"
   ]
  },
  {
   "cell_type": "code",
   "execution_count": 45,
   "id": "516d6eab-39f7-4414-bc2c-61b7701d9203",
   "metadata": {},
   "outputs": [
    {
     "data": {
      "text/plain": [
       "array([0.79, 0.  , 0.01, ..., 0.  , 0.  , 0.  ])"
      ]
     },
     "execution_count": 45,
     "metadata": {},
     "output_type": "execute_result"
    }
   ],
   "source": [
    "y_scores_forest"
   ]
  },
  {
   "cell_type": "code",
   "execution_count": 48,
   "id": "cd6e30a5-bc7f-481e-a9aa-7dec144f47e1",
   "metadata": {},
   "outputs": [
    {
     "data": {
      "text/plain": [
       "array([[0.21, 0.79],\n",
       "       [1.  , 0.  ],\n",
       "       [0.99, 0.01],\n",
       "       ...,\n",
       "       [1.  , 0.  ],\n",
       "       [1.  , 0.  ],\n",
       "       [1.  , 0.  ]])"
      ]
     },
     "execution_count": 48,
     "metadata": {},
     "output_type": "execute_result"
    }
   ],
   "source": [
    "y_probas_forest\n"
   ]
  },
  {
   "cell_type": "code",
   "execution_count": 49,
   "id": "168a8b0f-33e0-433c-b5b4-06cd65820b4c",
   "metadata": {},
   "outputs": [],
   "source": [
    "fpr_forest, tpr_forest, thresholds_forest = roc_curve(y_train_5,y_scores_forest)"
   ]
  },
  {
   "cell_type": "code",
   "execution_count": 51,
   "id": "2c134f52-a8e5-4626-8407-d83a56c86a28",
   "metadata": {},
   "outputs": [
    {
     "data": {
      "image/png": "[encoded data removed]",
      "text/plain": [
       "<Figure size 1080x720 with 1 Axes>"
      ]
     },
     "metadata": {
      "needs_background": "light"
     },
     "output_type": "display_data"
    }
   ],
   "source": [
    "\n",
    "plt.figure(figsize=(15,10))\n",
    "plt.plot(fpr_forest,tpr_forest, label = 'Forest', c='red')\n",
    "plot_roc_curve(fpr, tpr, 'SGDClassifier')\n",
    "plt.legend(loc='lower right')\n",
    "plt.show()"
   ]
  },
  {
   "cell_type": "code",
   "execution_count": 52,
   "id": "16170ba4-2a56-4239-bd51-df9272393e4a",
   "metadata": {},
   "outputs": [
    {
     "data": {
      "text/plain": [
       "0.9984928318460031"
      ]
     },
     "execution_count": 52,
     "metadata": {},
     "output_type": "execute_result"
    }
   ],
   "source": [
    "roc_auc_score(y_train_5,y_scores_forest)"
   ]
  },
  {
   "cell_type": "markdown",
   "id": "d2bcf8a2-c2f1-4ced-b189-adfea5fe9500",
   "metadata": {},
   "source": [
    "# Multclass"
   ]
  },
  {
   "cell_type": "markdown",
   "id": "4a0a7ad5-3578-499a-8b08-379c26a6a493",
   "metadata": {},
   "source": [
    "A sklearn já cuida de realizar o treinamento OvA (um contra todos) por trás dos panos, ou seja ela treina um modelo para cada classe  "
   ]
  },
  {
   "cell_type": "code",
   "execution_count": 56,
   "id": "d7848131-aac0-4d94-818d-6005c9c54899",
   "metadata": {},
   "outputs": [
    {
     "data": {
      "text/plain": [
       "SGDClassifier()"
      ]
     },
     "execution_count": 56,
     "metadata": {},
     "output_type": "execute_result"
    }
   ],
   "source": [
    "sgd_clf.fit(X_train, y_train)"
   ]
  },
  {
   "cell_type": "code",
   "execution_count": 62,
   "id": "0e691e98-f56f-4cdf-af16-8346d634e1b9",
   "metadata": {},
   "outputs": [
    {
     "data": {
      "text/plain": [
       "array([3])"
      ]
     },
     "execution_count": 62,
     "metadata": {},
     "output_type": "execute_result"
    }
   ],
   "source": [
    "sgd_clf.predict([X_train[8]])"
   ]
  },
  {
   "cell_type": "code",
   "execution_count": 64,
   "id": "df0bc3d4-29c5-4e9b-a693-d2463346add2",
   "metadata": {},
   "outputs": [
    {
     "data": {
      "text/plain": [
       "array([[-20802.83273548, -24539.25583155, -11493.18082037,\n",
       "         -3308.65032868,  -7920.24586719,    -30.03657911,\n",
       "         -3272.08464752, -24649.28088698,  -3599.23043857,\n",
       "         -4274.21500269]])"
      ]
     },
     "execution_count": 64,
     "metadata": {},
     "output_type": "execute_result"
    }
   ],
   "source": [
    "some_digit_scores = sgd_clf.decision_function([X_train[0]])\n",
    "some_digit_scores"
   ]
  },
  {
   "cell_type": "code",
   "execution_count": 65,
   "id": "3982da11-5102-47da-a04c-761e7c281efa",
   "metadata": {},
   "outputs": [
    {
     "data": {
      "text/plain": [
       "5"
      ]
     },
     "execution_count": 65,
     "metadata": {},
     "output_type": "execute_result"
    }
   ],
   "source": [
    "np.argmax(some_digit_scores)"
   ]
  },
  {
   "cell_type": "code",
   "execution_count": 66,
   "id": "9fb3a3f7-ecb7-465f-9d8c-2c369c1d1987",
   "metadata": {},
   "outputs": [
    {
     "data": {
      "text/plain": [
       "array([0, 1, 2, 3, 4, 5, 6, 7, 8, 9])"
      ]
     },
     "execution_count": 66,
     "metadata": {},
     "output_type": "execute_result"
    }
   ],
   "source": [
    "sgd_clf.classes_"
   ]
  },
  {
   "cell_type": "code",
   "execution_count": 134,
   "id": "a03df387-b450-4317-bbaa-70c99236f9b5",
   "metadata": {},
   "outputs": [
    {
     "data": {
      "text/plain": [
       "5"
      ]
     },
     "execution_count": 134,
     "metadata": {},
     "output_type": "execute_result"
    }
   ],
   "source": [
    "sgd_clf.classes_[5]"
   ]
  },
  {
   "cell_type": "markdown",
   "id": "2e9fe9f2-ed85-4886-ae64-06c0d77019cd",
   "metadata": {},
   "source": [
    "__Podemos Fazer a skearn realizar o treinamento OvO (um contra um) ou OvA (um contra todos) com as classes `OneVsOneClassifier` e `OneVsRestClassifier`__"
   ]
  },
  {
   "cell_type": "code",
   "execution_count": 67,
   "id": "6846f590-51fd-4ec3-a5a0-bc233d233712",
   "metadata": {},
   "outputs": [],
   "source": [
    "from sklearn.multiclass import OneVsOneClassifier, OneVsRestClassifier"
   ]
  },
  {
   "cell_type": "code",
   "execution_count": 68,
   "id": "7fcd642d-2b7d-4a92-8a69-4367eb16b6ed",
   "metadata": {},
   "outputs": [
    {
     "data": {
      "text/plain": [
       "array([0])"
      ]
     },
     "execution_count": 68,
     "metadata": {},
     "output_type": "execute_result"
    }
   ],
   "source": [
    "ovo_cls = OneVsOneClassifier(SGDClassifier(random_state=0))\n",
    "ovo_cls.fit(X_train, y_train)\n",
    "ovo_cls.predict([X_train[11]])"
   ]
  },
  {
   "cell_type": "markdown",
   "id": "5f4a100c-d7ee-4dd1-a88b-dcd2de7dcfe0",
   "metadata": {},
   "source": [
    "__Com o RandomForest não é necessário essa abordagem, pois é um algoritmo que pode realizar precisões multclass__"
   ]
  },
  {
   "cell_type": "code",
   "execution_count": 69,
   "id": "c5e5ca5c-d441-4975-b9e7-8180b6c53e55",
   "metadata": {},
   "outputs": [
    {
     "data": {
      "text/plain": [
       "array([0])"
      ]
     },
     "execution_count": 69,
     "metadata": {},
     "output_type": "execute_result"
    }
   ],
   "source": [
    "forest_cls.fit(X_train, y_train)\n",
    "forest_cls.predict([X_train[11]])"
   ]
  },
  {
   "cell_type": "code",
   "execution_count": 70,
   "id": "40b24e4b-fd38-493f-89cb-0bb25bb5a88c",
   "metadata": {},
   "outputs": [
    {
     "data": {
      "text/plain": [
       "array([[0.97, 0.  , 0.  , 0.  , 0.01, 0.  , 0.01, 0.  , 0.  , 0.01]])"
      ]
     },
     "execution_count": 70,
     "metadata": {},
     "output_type": "execute_result"
    }
   ],
   "source": [
    "forest_cls.predict_proba([X_train[11]])"
   ]
  },
  {
   "cell_type": "markdown",
   "id": "cfe1f031-12dc-4706-92c4-1b04081556f3",
   "metadata": {},
   "source": [
    "# Avaliação dos Classificadores"
   ]
  },
  {
   "cell_type": "code",
   "execution_count": 71,
   "id": "abbf7842-41af-4a55-9f0c-8044e8b13ba5",
   "metadata": {},
   "outputs": [
    {
     "data": {
      "text/plain": [
       "array([0.8789 , 0.8733 , 0.85975])"
      ]
     },
     "execution_count": 71,
     "metadata": {},
     "output_type": "execute_result"
    }
   ],
   "source": [
    "cross_val_score(sgd_clf, X_train, y_train, cv = 3, scoring='accuracy')"
   ]
  },
  {
   "cell_type": "code",
   "execution_count": 72,
   "id": "4bfbf49a-9023-4ed0-a37f-f4534054624a",
   "metadata": {},
   "outputs": [],
   "source": [
    "from sklearn.preprocessing import StandardScaler\n",
    "\n",
    "scaler = StandardScaler()\n",
    "X_train_scaler = scaler.fit_transform(X_train.astype(np.float64))"
   ]
  },
  {
   "cell_type": "code",
   "execution_count": 73,
   "id": "267026d3-ec2f-4fb9-b4c8-59927b0438ff",
   "metadata": {},
   "outputs": [
    {
     "name": "stderr",
     "output_type": "stream",
     "text": [
      "C:\\Users\\Vinicius\\anaconda3\\lib\\site-packages\\sklearn\\linear_model\\_stochastic_gradient.py:574: ConvergenceWarning: Maximum number of iteration reached before convergence. Consider increasing max_iter to improve the fit.\n",
      "  warnings.warn(\"Maximum number of iteration reached before \"\n"
     ]
    },
    {
     "data": {
      "text/plain": [
       "array([0.89885, 0.9044 , 0.8996 ])"
      ]
     },
     "execution_count": 73,
     "metadata": {},
     "output_type": "execute_result"
    }
   ],
   "source": [
    "cross_val_score(sgd_clf, X_train_scaler, y_train, cv = 3, scoring='accuracy')"
   ]
  },
  {
   "cell_type": "code",
   "execution_count": null,
   "id": "11e73c2f-2426-4baa-b2dc-5fea6b55568c",
   "metadata": {},
   "outputs": [],
   "source": []
  }
 ],
 "metadata": {
  "kernelspec": {
   "display_name": "Python 3",
   "language": "python",
   "name": "python3"
  },
  "language_info": {
   "codemirror_mode": {
    "name": "ipython",
    "version": 3
   },
   "file_extension": ".py",
   "mimetype": "text/x-python",
   "name": "python",
   "nbconvert_exporter": "python",
   "pygments_lexer": "ipython3",
   "version": "3.8.8"
  }
 },
 "nbformat": 4,
 "nbformat_minor": 5
}
