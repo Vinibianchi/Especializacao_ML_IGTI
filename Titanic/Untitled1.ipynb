{
 "cells": [
  {
   "cell_type": "code",
   "execution_count": 4,
   "id": "8bff49c9-16ed-42bf-9b1e-56627a4b7d7a",
   "metadata": {},
   "outputs": [],
   "source": [
    "import pandas as pd\n",
    "import numpy as np"
   ]
  },
  {
   "cell_type": "code",
   "execution_count": 6,
   "id": "cb934a46-12eb-46ea-8c6c-a4887b83973d",
   "metadata": {},
   "outputs": [],
   "source": [
    "df = pd.read_csv('titanic.csv')"
   ]
  },
  {
   "cell_type": "code",
   "execution_count": 12,
   "id": "7c5f5ecc-98e2-491f-a36c-0bb743f5b496",
   "metadata": {},
   "outputs": [],
   "source": [
    "df['Survived']=df['Survived'].fillna(0).astype(int)"
   ]
  },
  {
   "cell_type": "code",
   "execution_count": 14,
   "id": "30177248-3045-40e5-a273-0e762770e747",
   "metadata": {},
   "outputs": [],
   "source": [
    "df.dropna(inplace=True)"
   ]
  },
  {
   "cell_type": "code",
   "execution_count": 19,
   "id": "babe7661-4fa9-4661-8ae7-c74f09198fa7",
   "metadata": {},
   "outputs": [],
   "source": [
    "X_test=df[['Survived','Pclass', 'Sex', 'Age', 'SibSp', 'Parch', 'Fare', 'Embarked']]"
   ]
  },
  {
   "cell_type": "code",
   "execution_count": 20,
   "id": "f39644bd-b851-416d-b82f-9616d7bd30cb",
   "metadata": {},
   "outputs": [],
   "source": [
    "y_test = df['Survived']"
   ]
  },
  {
   "cell_type": "code",
   "execution_count": null,
   "id": "1bf67ebe-a6d2-43e1-8074-c9d2ca6c90aa",
   "metadata": {},
   "outputs": [],
   "source": []
  }
 ],
 "metadata": {
  "kernelspec": {
   "display_name": "Python 3",
   "language": "python",
   "name": "python3"
  },
  "language_info": {
   "codemirror_mode": {
    "name": "ipython",
    "version": 3
   },
   "file_extension": ".py",
   "mimetype": "text/x-python",
   "name": "python",
   "nbconvert_exporter": "python",
   "pygments_lexer": "ipython3",
   "version": "3.8.8"
  }
 },
 "nbformat": 4,
 "nbformat_minor": 5
}
